{
 "cells": [
  {
   "cell_type": "code",
   "execution_count": 1,
   "metadata": {},
   "outputs": [],
   "source": [
    "from dotenv import load_dotenv ## loads API keys\n",
    "from langchain.document_loaders import PyPDFLoader\n",
    "from langchain.embeddings import HuggingFaceEmbeddings\n",
    "from langchain_community.vectorstores.chroma import Chroma\n",
    "from langchain_text_splitters import RecursiveCharacterTextSplitter\n",
    "import os\n",
    "from collections import OrderedDict\n",
    "\n",
    "load_dotenv()\n",
    "\n",
    "os.environ[\"HUGGINGFACEHUB_API_TOKEN\"] = os.getenv(\"HUGGINGFACEHUB_API_TOKEN\")"
   ]
  },
  {
   "cell_type": "code",
   "execution_count": 2,
   "metadata": {},
   "outputs": [
    {
     "name": "stderr",
     "output_type": "stream",
     "text": [
      "C:\\Users\\sarat\\AppData\\Local\\Temp\\ipykernel_9552\\2820435924.py:10: LangChainDeprecationWarning: The class `HuggingFaceEmbeddings` was deprecated in LangChain 0.2.2 and will be removed in 1.0. An updated version of the class exists in the :class:`~langchain-huggingface package and should be used instead. To use it run `pip install -U :class:`~langchain-huggingface` and import as `from :class:`~langchain_huggingface import HuggingFaceEmbeddings``.\n",
      "  embed_model = HuggingFaceEmbeddings(model_name=\"sentence-transformers/all-MiniLM-L6-v2\")\n",
      "c:\\Users\\sarat\\anaconda3\\envs\\bots_venv\\lib\\site-packages\\tqdm\\auto.py:21: TqdmWarning: IProgress not found. Please update jupyter and ipywidgets. See https://ipywidgets.readthedocs.io/en/stable/user_install.html\n",
      "  from .autonotebook import tqdm as notebook_tqdm\n"
     ]
    }
   ],
   "source": [
    "# loader = PyPDFLoader(\"../grades_trim.pdf\")\n",
    "# loader = PyPDFLoader(\"../speech.pdf\")\n",
    "loader = PyPDFLoader(\"../econs.pdf\")\n",
    "docs = loader.load()\n",
    "\n",
    "text_splitter = RecursiveCharacterTextSplitter(chunk_size=2000, chunk_overlap=300)\n",
    "texts = text_splitter.split_documents(docs)\n",
    "\n",
    "## Initialize embedding model\n",
    "embed_model = HuggingFaceEmbeddings(model_name=\"sentence-transformers/all-MiniLM-L6-v2\")\n",
    "# embed_model = HuggingFaceEmbeddings(model_name=\"meta-llama/Meta-Llama-3-8B-Instruct\")\n"
   ]
  },
  {
   "cell_type": "code",
   "execution_count": 3,
   "metadata": {},
   "outputs": [],
   "source": [
    "text_splitter = RecursiveCharacterTextSplitter(chunk_size=2000, chunk_overlap=300)\n",
    "texts = text_splitter.split_documents(docs)\n",
    "\n",
    "# print(texts[1].page_content)\n",
    "# print(len(texts[1].page_content))\n",
    "# print(\"\\n\")\n",
    "# print(texts[2].page_content)\n",
    "# print(len(texts[2].page_content))\n",
    "# print(\"\\n\")\n",
    "# print(texts[3].page_content)\n",
    "# print(len(texts[3].page_content))"
   ]
  },
  {
   "cell_type": "code",
   "execution_count": 4,
   "metadata": {},
   "outputs": [
    {
     "name": "stdout",
     "output_type": "stream",
     "text": [
      "Vectors done!!!\n"
     ]
    }
   ],
   "source": [
    "try:\n",
    "    embeds = embed_model.embed_documents([doc.page_content for doc in texts])\n",
    "    print(\"Vectors done!!!\")\n",
    "except Exception as e:\n",
    "    print(f\"Error in embed process: {e}\")"
   ]
  },
  {
   "cell_type": "code",
   "execution_count": 5,
   "metadata": {},
   "outputs": [
    {
     "name": "stderr",
     "output_type": "stream",
     "text": [
      "C:\\Users\\sarat\\AppData\\Local\\Temp\\ipykernel_9552\\1271602101.py:2: LangChainDeprecationWarning: The class `Chroma` was deprecated in LangChain 0.2.9 and will be removed in 1.0. An updated version of the class exists in the :class:`~langchain-chroma package and should be used instead. To use it run `pip install -U :class:`~langchain-chroma` and import as `from :class:`~langchain_chroma import Chroma``.\n",
      "  vector_store = Chroma(embedding_function=embed_model, persist_directory=\"data\")\n"
     ]
    }
   ],
   "source": [
    "## Vector store\n",
    "vector_store = Chroma(embedding_function=embed_model, persist_directory=\"data\")\n",
    "\n",
    "_ = vector_store.add_documents(documents=texts)"
   ]
  },
  {
   "cell_type": "code",
   "execution_count": 6,
   "metadata": {},
   "outputs": [
    {
     "name": "stdout",
     "output_type": "stream",
     "text": [
      "Top query results:\n",
      "Feb-25\n",
      "120\n",
      "130\n",
      "140\n",
      "150\n",
      "160\n",
      "170\n",
      "180\n",
      "190\n",
      "200\n",
      "Feb-23\n",
      "Apr-23\n",
      "Jun-23\n",
      "Aug-23\n",
      "Oct-23\n",
      "Dec-23\n",
      "Feb-24\n",
      "Apr-24\n",
      "Jun-24\n",
      "Aug-24\n",
      "Oct-24\n",
      "Dec-24\n",
      "Feb-25\n",
      "0\n",
      "20\n",
      "40\n",
      "60\n",
      "80\n",
      "100\n",
      "120\n",
      "140\n",
      "160\n",
      "0\n",
      "10\n",
      "20\n",
      "30\n",
      "40\n",
      "50\n",
      "60\n",
      "70\n",
      "80\n",
      "Feb-23\n",
      "Apr-23\n",
      "Jun-23\n",
      "Aug-23\n",
      "Oct-23\n",
      "Dec-23\n",
      "Feb-24\n",
      "Apr-24\n",
      "Jun-24\n",
      "Aug-24\n",
      "Oct-24\n",
      "Dec-24\n",
      "Feb-25\n",
      "35.2\n",
      "193.8\n",
      "170.3\n",
      "154.9\n",
      "24.1\n",
      "20.7\n",
      "Chart III.30: Spatial Distribution of Inflation\n",
      "January 2025\n",
      "(CPI-Combined, y-o-y), (per cent)\n",
      "Note: Map is for illustrative purposes only.\n",
      "Sources: NSO; and RBI Staff estimates.\n",
      "<4 4-6 6-8\n"
     ]
    }
   ],
   "source": [
    "try:\n",
    "    test_query = \"what is the view on inflation?\"#\"what is the state of the economy\"\n",
    "    # test_query = \"what are the stress levels for the class?\"\n",
    "    # test_query = \"whats current liquidity landscape?\"\n",
    "    results = vector_store.search(query=test_query, search_type='similarity')\n",
    "\n",
    "    unique_results = OrderedDict()\n",
    "    for doc in results:\n",
    "        if doc.page_content not in unique_results:\n",
    "            unique_results[doc.page_content] = doc\n",
    "    \n",
    "    final_results = list(unique_results.values())[:3]\n",
    "    print(f\"Top query results:\\n{final_results[0].page_content}\")\n",
    "except Exception as e:\n",
    "    print(f\"Error during test query: {e}\")"
   ]
  },
  {
   "cell_type": "code",
   "execution_count": 7,
   "metadata": {},
   "outputs": [
    {
     "data": {
      "text/plain": [
       "3"
      ]
     },
     "execution_count": 7,
     "metadata": {},
     "output_type": "execute_result"
    }
   ],
   "source": [
    "len(final_results)"
   ]
  },
  {
   "cell_type": "code",
   "execution_count": 8,
   "metadata": {},
   "outputs": [
    {
     "name": "stdout",
     "output_type": "stream",
     "text": [
      "\n",
      "\tContent\n",
      "\n",
      "Feb-25\n",
      "120\n",
      "130\n",
      "140\n",
      "150\n",
      "160\n",
      "170\n",
      "180\n",
      "190\n",
      "200\n",
      "Feb-23\n",
      "Apr-23\n",
      "Jun-23\n",
      "Aug-23\n",
      "Oct-23\n",
      "Dec-23\n",
      "Feb-24\n",
      "Apr-24\n",
      "Jun-24\n",
      "Aug-24\n",
      "Oct-24\n",
      "Dec-24\n",
      "Feb-25\n",
      "0\n",
      "20\n",
      "40\n",
      "60\n",
      "80\n",
      "100\n",
      "120\n",
      "140\n",
      "160\n",
      "0\n",
      "10\n",
      "20\n",
      "30\n",
      "40\n",
      "50\n",
      "60\n",
      "70\n",
      "80\n",
      "Feb-23\n",
      "Apr-23\n",
      "Jun-23\n",
      "Aug-23\n",
      "Oct-23\n",
      "Dec-23\n",
      "Feb-24\n",
      "Apr-24\n",
      "Jun-24\n",
      "Aug-24\n",
      "Oct-24\n",
      "Dec-24\n",
      "Feb-25\n",
      "35.2\n",
      "193.8\n",
      "170.3\n",
      "154.9\n",
      "24.1\n",
      "20.7\n",
      "Chart III.30: Spatial Distribution of Inflation\n",
      "January 2025\n",
      "(CPI-Combined, y-o-y), (per cent)\n",
      "Note: Map is for illustrative purposes only.\n",
      "Sources: NSO; and RBI Staff estimates.\n",
      "<4 4-6 6-8\n",
      "\n",
      "\tContent\n",
      "\n",
      "ARTICLE\n",
      "RBI Bulletin February 2025\n",
      "25\n",
      "State of the Economy\n",
      "cent (m-o-m) in January amidst fresh US sanctions on \n",
      "Russia’s energy sector and cold weather pushing up \n",
      "demand (Chart II.7b). Base metal prices also increased \n",
      "in January, after China, the world’s largest consumer of \n",
      "base metals, indicated additional stimulus measures \n",
      "to boost their economy. Precious metals, particularly \n",
      "gold prices, recorded sharp increases in January, \n",
      "supported by safe-haven demand amidst increased \n",
      "geo-economic and trade uncertainties (Chart II.7c). \n",
      "Food prices measured by the FAO’s food price index \n",
      "declined by (-) 1.6 per cent in January 2025, primarily \n",
      "driven by decrease in the prices of sugar, vegetable \n",
      "oil and meat partially offset by increases in prices of \n",
      "dairy and cereals (Chart II.7d).\n",
      "In the US, CPI inflation increased to 3.0 per cent \n",
      "(y-o-y) in January from 2.9 per cent in December. \n",
      "Inflation, in terms of the personal consumption \n",
      "expenditure (PCE) deflator also increased to 2.6 per \n",
      "cent in December from 2.4 per cent in November. \n",
      "Headline inflation in the Euro area accelerated to 2.5 \n",
      "per cent in January from 2.4 per cent in December. \n",
      "Inflation in Japan (CPI excluding fresh food) increased \n",
      "to 3.0 per cent in December, while in the UK it inched \n",
      "lower by 10 bps to 2.5 per cent (Chart II.8a). Among \n",
      "EMEs, CPI inflation in China rose to a five month high \n",
      "of 0.5 per cent in January; Russia and South Africa also \n",
      "witnessed an increase in inflation in December while \n",
      "in Brazil, it declined to 4.6 per cent in January (Chart \n",
      "II.8b). Core inflation remained steady in the Euro area \n",
      "in January 2025, but edged up marginally in the US. \n",
      "Services inflation decreased in both the US and the \n",
      "Euro area but remains elevated (Chart II.8c and II.8d). \n",
      "Chart II.7: Commodity and Food Prices\n",
      " \n",
      "b. Brent Crude Oila. Bloomberg Commodity Index\n",
      "Index\n",
      " US$/ bbl\n",
      "c. Metals d. Food Prices\n",
      "Index (end-2022=100)\n",
      "Index (2014-16=100)\n",
      "Sources: Bloomberg; World Bank Pink Sheet; and FAO.\n",
      "65\n",
      "70\n",
      "75\n",
      "\n",
      "\tContent\n",
      "\n",
      "ARTICLE\n",
      "RBI Bulletin February 2025\n",
      "41\n",
      "State of the Economy\n",
      "Inflation\n",
      "Headline inflation, as measured by y-o-y changes \n",
      "in the all-India consumer price index (CPI)18, declined \n",
      "to a five-month low of 4.3 per cent in January 2025 \n",
      "from 5.2 per cent in December 2024 (Chart III.27). \n",
      "The 90 bps decline in inflation was on account of a \n",
      "negative price momentum of around 100 bps (m-o-m), \n",
      "partially offset by an adverse base effect of around 10 \n",
      "bps. The food group recorded a negative momentum \n",
      "of around 240 bps during the month, while that in \n",
      "fuel and core (excluding food and fuel) groups was \n",
      "positive at 40 and 30 bps, respectively.\n",
      "Food inflation decelerated to 5.7 per cent in \n",
      "January from 7.7 per cent (y-o-y) in December. In \n",
      "terms of sub-groups, inflation moderated in cereals, \n",
      "eggs, vegetables, and pulses, but picked up in oils and \n",
      "fats, fruits, sugar and confectionary, non-alcoholic \n",
      "beverages, and prepared meals. Inflation remained \n",
      "steady in meat and fish, and milk and products while \n",
      "deflation in spices narrowed (Chart III.28).\n",
      "Fuel and light deflation was (-)1.4 per cent \n",
      "in January as compared with (-) 1.3 per cent in \n",
      "December, mainly on account of a higher rate of \n",
      "decline in kerosene prices while deflation in LPG \n",
      "prices remained steady. Electricity prices, however, \n",
      "recorded an increase in inflation.\n",
      "Core inflation increased to 3.7 per cent in January \n",
      "2025 from 3.6 per cent in December. Among the sub-\n",
      "groups, inflation edged up in housing, household \n",
      "goods and services, transport and communication, \n",
      "and personal care and effects subgroups; it remained \n",
      "steady in clothing and footwear, and health; and \n",
      "moderated in pan, tobacco and intoxicants, recreation \n",
      "and amusement, and education (Chart III.29).\n",
      "In terms of regional distribution, rural and \n",
      "urban inflation was at 4.6 per cent and 3.9 per cent, \n",
      "respectively, in January 2025. At the state level, \n",
      "inflation rates ranged from 2.0 to 7.4 per cent. Majority\n"
     ]
    }
   ],
   "source": [
    "for i in final_results:\n",
    "    print(\"\\n\\tContent\\n\")\n",
    "    print(i.page_content)\n",
    "# print(final_results[1].page_content,\"\\n\")\n",
    "# print(final_results[2].page_content,\"\\n\")"
   ]
  },
  {
   "cell_type": "code",
   "execution_count": 37,
   "metadata": {},
   "outputs": [],
   "source": [
    "from langchain_huggingface import HuggingFaceEndpoint\n",
    "\n",
    "hf_hub_llm = HuggingFaceEndpoint(repo_id=\"meta-llama/Meta-Llama-3-8B-Instruct\",\n",
    "                                 temperature= 0.8, \n",
    "                                 max_new_tokens= 1024)"
   ]
  },
  {
   "cell_type": "code",
   "execution_count": 31,
   "metadata": {},
   "outputs": [],
   "source": [
    "# from langchain_huggingface.embeddings.huggingface import HuggingFaceEmbeddings\n",
    "\n",
    "# help(HuggingFaceEmbeddings)"
   ]
  },
  {
   "cell_type": "code",
   "execution_count": 36,
   "metadata": {},
   "outputs": [],
   "source": [
    "# from langchain_huggingface.embeddings.huggingface import HuggingFaceEmbeddings\n",
    "\n",
    "# hf_hub_llm = HuggingFaceEmbeddings(repo_id=\"meta-llama/Meta-Llama-3-8B-Instruct\",\n",
    "#                                            model_kwargs={\"temperature\": 0.8, \"max_new_tokens\": 1024}\n",
    "#                                            )"
   ]
  },
  {
   "cell_type": "code",
   "execution_count": 32,
   "metadata": {},
   "outputs": [],
   "source": [
    "# help(HuggingFaceEndpointEmbeddings)"
   ]
  },
  {
   "cell_type": "code",
   "execution_count": 40,
   "metadata": {},
   "outputs": [],
   "source": [
    "from langchain_core.prompts import PromptTemplate\n",
    "\n",
    "prompt_template = \"\"\"\n",
    "You are a highly educated economist and central bank policy assistant, your role is to accurately interpret queries on the economy \n",
    "and provide responses using the specialized database provided in the Context.\n",
    "Do not mention anything about charts or graphs. Provided your analysis as text response with facts from the data provided.\n",
    "\n",
    "Context: {context}\n",
    "\n",
    "Question: {question}\n",
    "\n",
    "Answer:\n",
    "\"\"\"\n",
    "\n",
    "# prompt_template = \"\"\"\n",
    "# You are a highly educated class teacher and your role is to accurately interpret situation in the class based on the specialized database.\n",
    "\n",
    "# Query: {context}\n",
    "\n",
    "# Question: {question}\n",
    "\n",
    "# Answer:\n",
    "# \"\"\"\n",
    "\n",
    "custom_prompt = PromptTemplate(input_variables=[\"context\",\"question\"], template=prompt_template)"
   ]
  },
  {
   "cell_type": "code",
   "execution_count": 41,
   "metadata": {},
   "outputs": [],
   "source": [
    "from langchain.chains.retrieval_qa.base import RetrievalQA\n",
    "\n",
    "rag_chain = RetrievalQA.from_chain_type(llm=hf_hub_llm, \n",
    "                                        chain_type=\"stuff\", \n",
    "                                        retriever = vector_store.as_retriever(search_kwargs={'k': 3}),\n",
    "                                        chain_type_kwargs={\"prompt\": custom_prompt},return_source_documents=True)"
   ]
  },
  {
   "cell_type": "code",
   "execution_count": 42,
   "metadata": {},
   "outputs": [],
   "source": [
    "def get_response(question):\n",
    "    result = rag_chain({\"query\": question})\n",
    "    response_text = result[\"result\"]\n",
    "    answer_start = response_text.find(\"Answer:\") + len(\"Answer:\")\n",
    "    answer = response_text[answer_start:].strip()\n",
    "    return answer"
   ]
  },
  {
   "cell_type": "code",
   "execution_count": 43,
   "metadata": {},
   "outputs": [],
   "source": [
    "# print(rag_chain({\"query\": \"what is the view on inflation?\"}))"
   ]
  },
  {
   "cell_type": "code",
   "execution_count": 44,
   "metadata": {},
   "outputs": [
    {
     "name": "stderr",
     "output_type": "stream",
     "text": [
      "c:\\Users\\sarat\\anaconda3\\envs\\bots_venv\\lib\\site-packages\\huggingface_hub\\utils\\_deprecation.py:131: FutureWarning: 'post' (from 'huggingface_hub.inference._client') is deprecated and will be removed from version '0.31.0'. Making direct POST requests to the inference server is not supported anymore. Please use task methods instead (e.g. `InferenceClient.chat_completion`). If your use case is not supported, please open an issue in https://github.com/huggingface/huggingface_hub.\n",
      "  warnings.warn(warning_message, FutureWarning)\n"
     ]
    },
    {
     "name": "stdout",
     "output_type": "stream",
     "text": [
      "on the data provided in the RBI Bulletin February 2025, the view on inflation is that headline inflation, as measured by y-o-y changes in the all-India consumer price index (CPI), declined to a five-month low of 4.3 per cent in January 2025 from 5.2 per cent in December 2024. The decline in inflation was primarily due to a negative price momentum of around 100 bps (m-o-m), partially offset by an adverse base effect of around 10 bps. Food inflation decelerated to 5.7 per cent in January from 7.7 per cent (y-o-y) in December. Fuel and light deflation was (-)1.4 per cent in January as compared with (-)1.3 per cent in December. Core inflation increased to 3.7 per cent in January 2025 from 3.6 per cent in December. Overall, the inflation rate is expected to remain under control due to the decline in food and fuel prices, but it may experience some upward pressure due to the increase in core inflation. The regional distribution of inflation also shows that rural and urban inflation was at 4.6 per cent and 3.9 per cent, respectively, in January 2025. At the state level, inflation rates ranged from 2.0 to 7.4 per cent. Majority of the states had an inflation rate below 5 per cent. Therefore, the view on inflation is that it is expected to remain under control, but with some upward pressure due to the increase in core inflation. 43\n",
      "State of the Economy\n",
      "cent (m-o-m) in January amidst fresh US sanctions on \n",
      "Russia’s energy sector and cold weather pushing up \n",
      "demand (Chart II.7b). Base metal prices also increased \n",
      "in January, after China, the world’s largest consumer of \n",
      "base metals, indicated additional stimulus measures \n",
      "to boost their economy. Precious metals, particularly \n",
      "gold prices, recorded sharp increases in January, \n",
      "supported by safe-haven demand amidst increased \n",
      "geo-economic and trade uncertainties (Chart II.7c). \n",
      "Food prices measured by the FAO’s food price index \n",
      "declined by (-) 1.6 per cent in January 2025, primarily \n",
      "driven by decrease in the prices of sugar, vegetable \n",
      "oil and meat partially offset by increases in prices of \n",
      "dairy and cereals (Chart II.7d).\n",
      "In the US, CPI inflation increased to 3.0 per cent \n",
      "(y-o-y) in January from 2.9 per cent in December. \n",
      "Inflation, in terms of the personal consumption \n",
      "expenditure (PCE) deflator also increased to 2.6 per \n",
      "cent in December from 2.4 per cent in November. \n",
      "Headline inflation in the Euro area accelerated to 2.5 \n",
      "per cent in January from 2.4 per cent in December. \n",
      "Inflation in Japan (CPI excluding fresh food) increased \n",
      "to 3.0 per cent in December, while in the UK it inched \n",
      "lower by 10 bps to 2.5 per cent (Chart II.8a). Among \n",
      "EMEs, CPI inflation in China rose to a five month high \n",
      "of 0.5 per cent in January; Russia and South Africa also \n",
      "witnessed an increase in inflation in December while \n",
      "in Brazil, it declined to 4.6 per cent in January (Chart \n",
      "II.8b). Core inflation remained steady in the Euro area \n",
      "in January 2025, but edged up marginally in the US. \n",
      "Services inflation decreased in both the US and the \n",
      "Euro area but remains elevated (Chart II.8c and II.8d). \n",
      "Chart II.7: Commodity and Prices\n",
      " \n",
      "b. Brent Crude Oila. Bloomberg Commodity Index\n",
      "Index\n",
      " US$/ bbl\n",
      "c. Metals d. Food Prices\n",
      " \n",
      "Index (end-2022=100)\n",
      "Index (2014-16=100)\n",
      "Sources: Bloomberg; World Bank Pink Sheet; and FAO.\n",
      "65\n",
      "70\n",
      "75\n",
      "76\n",
      "\n",
      "ARTICLE\n",
      "RBI Bulletin February 2025\n",
      "44\n",
      "State of the Economy\n",
      "Inflation\n",
      "Headline inflation, as measured by y-o-y changes \n",
      "in the all-India consumer price index (CPI)18, declined \n",
      "to a five-month low of 4.3 per cent in January 2025 \n",
      "from 5.2 per cent in December 2024 (Chart III.27). \n",
      "The 90 bps decline in inflation was on account of a \n",
      "negative price momentum of around 100 bps (m-o-m), \n",
      "partially offset by an adverse base effect of around 10 \n",
      "bps. The food group recorded a negative momentum \n",
      "of around 240 bps during the month, while that in \n",
      "fuel and core (excluding food and fuel) groups was \n",
      "positive at 40 and 30\n"
     ]
    }
   ],
   "source": [
    "# print(get_response(\"whats current liquidity landscape?\"))\n",
    "# print(get_response(\"what are the stress levels for the class?\"))\n",
    "# print(get_response(\"what does the document say about union budget 2025-26?\"))\n",
    "print(get_response(\"what is the view on inflation?\"))"
   ]
  },
  {
   "cell_type": "code",
   "execution_count": null,
   "metadata": {},
   "outputs": [],
   "source": []
  }
 ],
 "metadata": {
  "kernelspec": {
   "display_name": "bots_venv",
   "language": "python",
   "name": "python3"
  },
  "language_info": {
   "codemirror_mode": {
    "name": "ipython",
    "version": 3
   },
   "file_extension": ".py",
   "mimetype": "text/x-python",
   "name": "python",
   "nbconvert_exporter": "python",
   "pygments_lexer": "ipython3",
   "version": "3.10.16"
  }
 },
 "nbformat": 4,
 "nbformat_minor": 2
}
